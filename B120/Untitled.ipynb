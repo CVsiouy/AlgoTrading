{
 "cells": [
  {
   "cell_type": "code",
   "execution_count": null,
   "id": "c14f2d30",
   "metadata": {},
   "outputs": [],
   "source": [
    "        'UT.Strike': \n",
    "            UT.Open\n",
    "            UT.High\n",
    "            UT.Low\n",
    "            UT.Close\n",
    "            UT.SL.Flag\n",
    "            UT.SL.Time\n",
    "            BPL\n",
    "            TT.PL.AT.SL\n",
    "            UT.PL.AT.SL\n",
    "            UT.PNL\n",
    "            Total.PNL"
   ]
  },
  {
   "cell_type": "code",
   "execution_count": null,
   "id": "e829a5d7",
   "metadata": {},
   "outputs": [],
   "source": []
  }
 ],
 "metadata": {
  "kernelspec": {
   "display_name": "Python 3 (ipykernel)",
   "language": "python",
   "name": "python3"
  },
  "language_info": {
   "codemirror_mode": {
    "name": "ipython",
    "version": 3
   },
   "file_extension": ".py",
   "mimetype": "text/x-python",
   "name": "python",
   "nbconvert_exporter": "python",
   "pygments_lexer": "ipython3",
   "version": "3.11.9"
  }
 },
 "nbformat": 4,
 "nbformat_minor": 5
}
